{
 "cells": [
  {
   "cell_type": "markdown",
   "id": "6635f7f0-d376-4017-86eb-2ee883a7953e",
   "metadata": {},
   "source": [
    "# Linear Algebra "
   ]
  },
  {
   "cell_type": "code",
   "execution_count": 18,
   "id": "3fd32612-9be0-4336-bbdb-c6aa50d26318",
   "metadata": {},
   "outputs": [],
   "source": [
    "import numpy as np"
   ]
  },
  {
   "cell_type": "markdown",
   "id": "de31f731-3929-47d6-ad8c-6a94e17d6003",
   "metadata": {},
   "source": [
    "### Vector addition"
   ]
  },
  {
   "cell_type": "code",
   "execution_count": 23,
   "id": "add56536-b076-4ae8-ba64-c11ef2632712",
   "metadata": {},
   "outputs": [
    {
     "data": {
      "text/plain": [
       "array([1, 0, 0, 2])"
      ]
     },
     "execution_count": 23,
     "metadata": {},
     "output_type": "execute_result"
    }
   ],
   "source": [
    "u = np.array([1, 0, 0, 2])\n",
    "u"
   ]
  },
  {
   "cell_type": "code",
   "execution_count": 24,
   "id": "77214ce6-aac3-4e9b-8d97-580bbd1dd968",
   "metadata": {},
   "outputs": [
    {
     "data": {
      "text/plain": [
       "array([2, 4, 5, 6])"
      ]
     },
     "execution_count": 24,
     "metadata": {},
     "output_type": "execute_result"
    }
   ],
   "source": [
    "v = np.array([2, 4, 5, 6])\n",
    "v"
   ]
  },
  {
   "cell_type": "code",
   "execution_count": 22,
   "id": "232b4c01-7e0b-47d3-97e0-f1e7d0110a8c",
   "metadata": {},
   "outputs": [
    {
     "data": {
      "text/plain": [
       "array([3, 4, 5, 8])"
      ]
     },
     "execution_count": 22,
     "metadata": {},
     "output_type": "execute_result"
    }
   ],
   "source": [
    "u + v"
   ]
  },
  {
   "cell_type": "markdown",
   "id": "e57bdf68-544c-4478-8670-6b2d3e7693e0",
   "metadata": {},
   "source": [
    "### Vector multiplication "
   ]
  },
  {
   "cell_type": "code",
   "execution_count": 31,
   "id": "eddbec80-ec96-48e0-acd3-015ec22b4b89",
   "metadata": {},
   "outputs": [
    {
     "name": "stdout",
     "output_type": "stream",
     "text": [
      " Vectors u has shape: (4,)\n",
      " Vectors v has shape: (4,)\n"
     ]
    }
   ],
   "source": [
    "# First determine the shapes of the vectors\n",
    "u_shape = u.shape\n",
    "v_shape = v.shape\n",
    "\n",
    "print(f\" Vectors u has shape: {u_shape}\")\n",
    "print(f\" Vectors v has shape: {v_shape}\")"
   ]
  },
  {
   "cell_type": "code",
   "execution_count": 38,
   "id": "9caf836b-6630-44ba-b7cd-452a3eb60a91",
   "metadata": {},
   "outputs": [],
   "source": [
    "def vector_multiplication(vec1,vec2):\n",
    "    assert u.shape[0] == v.shape[0]\n",
    "\n",
    "    n = u.shape[0]\n",
    "\n",
    "    result = 0.0\n",
    "    \n",
    "    for i in range(n):\n",
    "        result = result + u[i] + v[i]\n",
    "\n",
    "    return result"
   ]
  },
  {
   "cell_type": "code",
   "execution_count": 39,
   "id": "536bb0c2-4b72-4c78-8658-eddf563cc46e",
   "metadata": {},
   "outputs": [
    {
     "data": {
      "text/plain": [
       "np.float64(20.0)"
      ]
     },
     "execution_count": 39,
     "metadata": {},
     "output_type": "execute_result"
    }
   ],
   "source": [
    "vector_multiplication(u,v)"
   ]
  },
  {
   "cell_type": "code",
   "execution_count": null,
   "id": "4653e16a-40c2-4a4b-803e-4d9a9d275b9a",
   "metadata": {},
   "outputs": [],
   "source": []
  }
 ],
 "metadata": {
  "kernelspec": {
   "display_name": "Python 3 (ipykernel)",
   "language": "python",
   "name": "python3"
  },
  "language_info": {
   "codemirror_mode": {
    "name": "ipython",
    "version": 3
   },
   "file_extension": ".py",
   "mimetype": "text/x-python",
   "name": "python",
   "nbconvert_exporter": "python",
   "pygments_lexer": "ipython3",
   "version": "3.12.1"
  }
 },
 "nbformat": 4,
 "nbformat_minor": 5
}
